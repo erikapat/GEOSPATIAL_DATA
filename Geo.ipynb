{
 "cells": [
  {
   "cell_type": "code",
   "execution_count": null,
   "metadata": {},
   "outputs": [],
   "source": []
  },
  {
   "cell_type": "markdown",
   "metadata": {},
   "source": [
    "## TOP 19 PYTHON LIBRARY THAT FREQUENTLY USED FOR GEOSPATIAL DATA:"
   ]
  },
  {
   "cell_type": "markdown",
   "metadata": {},
   "source": [
    "1. Pandas (https://pandas.pydata.org/)\n",
    "2. Numpy (www.numpy.org/)\n",
    "3. Scipy (https://www.scipy.org/)\n",
    "4. NetworkX (https://lnkd.in/feNFfE7)\n",
    "5. RTree(toblerity.org/rtree/)\n",
    "6. GDAL (https://lnkd.in/fchnwNC)\n",
    "7. Fiona (https://lnkd.in/fKGwbCA)\n",
    "8. Missingno(https://lnkd.in/ffxt7r8)\n",
    "9. Shapely (https://lnkd.in/fr9k9B7)\n",
    "10. Geopandas (geopandas.org/)\n",
    "11. PySAL (https://lnkd.in/fQwC8cn)\n",
    "12. Matplotlib (https://matplotlib.org/)\n",
    "13. Rasterio\n",
    "14. PyProj\n",
    "15 Telluric (https://lnkd.in/f77YKAh), high level layer on top of Fiona, rasterio, Shapely and Pyproj, with interactive visualization, open sourced by Satellogic\n",
    "16. Folium\n",
    "17. Basemap library in Python: This is really a good library for plotting static maps https://lnkd.in/f2V6T6y\n",
    "18. Omniscope\n",
    "19. Bokeh"
   ]
  },
  {
   "cell_type": "code",
   "execution_count": null,
   "metadata": {},
   "outputs": [],
   "source": []
  }
 ],
 "metadata": {
  "kernelspec": {
   "display_name": "Python 3",
   "language": "python",
   "name": "python3"
  },
  "language_info": {
   "codemirror_mode": {
    "name": "ipython",
    "version": 3
   },
   "file_extension": ".py",
   "mimetype": "text/x-python",
   "name": "python",
   "nbconvert_exporter": "python",
   "pygments_lexer": "ipython3",
   "version": "3.7.4"
  }
 },
 "nbformat": 4,
 "nbformat_minor": 4
}
